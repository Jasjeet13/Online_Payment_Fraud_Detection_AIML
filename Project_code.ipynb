{
 "cells": [
  {
   "cell_type": "code",
   "execution_count": 1,
   "id": "2628b5c4",
   "metadata": {},
   "outputs": [],
   "source": [
    "# Importing the necessary libraries\n",
    "\n",
    "import numpy as np\n",
    "import pandas as pd\n",
    "import matplotlib.pyplot as plt\n",
    "import seaborn as sns\n",
    "%matplotlib inline\n"
   ]
  },
  {
   "cell_type": "code",
   "execution_count": 2,
   "id": "3af5dde9",
   "metadata": {},
   "outputs": [
    {
     "data": {
      "text/html": [
       "<div>\n",
       "<style scoped>\n",
       "    .dataframe tbody tr th:only-of-type {\n",
       "        vertical-align: middle;\n",
       "    }\n",
       "\n",
       "    .dataframe tbody tr th {\n",
       "        vertical-align: top;\n",
       "    }\n",
       "\n",
       "    .dataframe thead th {\n",
       "        text-align: right;\n",
       "    }\n",
       "</style>\n",
       "<table border=\"1\" class=\"dataframe\">\n",
       "  <thead>\n",
       "    <tr style=\"text-align: right;\">\n",
       "      <th></th>\n",
       "      <th>step</th>\n",
       "      <th>type</th>\n",
       "      <th>amount</th>\n",
       "      <th>nameOrig</th>\n",
       "      <th>oldbalanceOrg</th>\n",
       "      <th>newbalanceOrig</th>\n",
       "      <th>nameDest</th>\n",
       "      <th>oldbalanceDest</th>\n",
       "      <th>newbalanceDest</th>\n",
       "      <th>isFraud</th>\n",
       "      <th>isFlaggedFraud</th>\n",
       "    </tr>\n",
       "  </thead>\n",
       "  <tbody>\n",
       "    <tr>\n",
       "      <th>0</th>\n",
       "      <td>1</td>\n",
       "      <td>PAYMENT</td>\n",
       "      <td>9839.64</td>\n",
       "      <td>C1231006815</td>\n",
       "      <td>170136.0</td>\n",
       "      <td>160296.36</td>\n",
       "      <td>M1979787155</td>\n",
       "      <td>0.0</td>\n",
       "      <td>0.0</td>\n",
       "      <td>0</td>\n",
       "      <td>0</td>\n",
       "    </tr>\n",
       "    <tr>\n",
       "      <th>1</th>\n",
       "      <td>1</td>\n",
       "      <td>PAYMENT</td>\n",
       "      <td>1864.28</td>\n",
       "      <td>C1666544295</td>\n",
       "      <td>21249.0</td>\n",
       "      <td>19384.72</td>\n",
       "      <td>M2044282225</td>\n",
       "      <td>0.0</td>\n",
       "      <td>0.0</td>\n",
       "      <td>0</td>\n",
       "      <td>0</td>\n",
       "    </tr>\n",
       "    <tr>\n",
       "      <th>2</th>\n",
       "      <td>1</td>\n",
       "      <td>TRANSFER</td>\n",
       "      <td>181.00</td>\n",
       "      <td>C1305486145</td>\n",
       "      <td>181.0</td>\n",
       "      <td>0.00</td>\n",
       "      <td>C553264065</td>\n",
       "      <td>0.0</td>\n",
       "      <td>0.0</td>\n",
       "      <td>1</td>\n",
       "      <td>0</td>\n",
       "    </tr>\n",
       "    <tr>\n",
       "      <th>3</th>\n",
       "      <td>1</td>\n",
       "      <td>CASH_OUT</td>\n",
       "      <td>181.00</td>\n",
       "      <td>C840083671</td>\n",
       "      <td>181.0</td>\n",
       "      <td>0.00</td>\n",
       "      <td>C38997010</td>\n",
       "      <td>21182.0</td>\n",
       "      <td>0.0</td>\n",
       "      <td>1</td>\n",
       "      <td>0</td>\n",
       "    </tr>\n",
       "    <tr>\n",
       "      <th>4</th>\n",
       "      <td>1</td>\n",
       "      <td>PAYMENT</td>\n",
       "      <td>11668.14</td>\n",
       "      <td>C2048537720</td>\n",
       "      <td>41554.0</td>\n",
       "      <td>29885.86</td>\n",
       "      <td>M1230701703</td>\n",
       "      <td>0.0</td>\n",
       "      <td>0.0</td>\n",
       "      <td>0</td>\n",
       "      <td>0</td>\n",
       "    </tr>\n",
       "  </tbody>\n",
       "</table>\n",
       "</div>"
      ],
      "text/plain": [
       "   step      type    amount     nameOrig  oldbalanceOrg  newbalanceOrig  \\\n",
       "0     1   PAYMENT   9839.64  C1231006815       170136.0       160296.36   \n",
       "1     1   PAYMENT   1864.28  C1666544295        21249.0        19384.72   \n",
       "2     1  TRANSFER    181.00  C1305486145          181.0            0.00   \n",
       "3     1  CASH_OUT    181.00   C840083671          181.0            0.00   \n",
       "4     1   PAYMENT  11668.14  C2048537720        41554.0        29885.86   \n",
       "\n",
       "      nameDest  oldbalanceDest  newbalanceDest  isFraud  isFlaggedFraud  \n",
       "0  M1979787155             0.0             0.0        0               0  \n",
       "1  M2044282225             0.0             0.0        0               0  \n",
       "2   C553264065             0.0             0.0        1               0  \n",
       "3    C38997010         21182.0             0.0        1               0  \n",
       "4  M1230701703             0.0             0.0        0               0  "
      ]
     },
     "execution_count": 2,
     "metadata": {},
     "output_type": "execute_result"
    }
   ],
   "source": [
    "# Reading data from the file \n",
    "\n",
    "data = pd.read_csv('data.csv')\n",
    "data.head()\n"
   ]
  },
  {
   "cell_type": "code",
   "execution_count": 3,
   "id": "bdc1475d",
   "metadata": {},
   "outputs": [
    {
     "name": "stdout",
     "output_type": "stream",
     "text": [
      "<class 'pandas.core.frame.DataFrame'>\n",
      "RangeIndex: 6362620 entries, 0 to 6362619\n",
      "Data columns (total 11 columns):\n",
      " #   Column          Dtype  \n",
      "---  ------          -----  \n",
      " 0   step            int64  \n",
      " 1   type            object \n",
      " 2   amount          float64\n",
      " 3   nameOrig        object \n",
      " 4   oldbalanceOrg   float64\n",
      " 5   newbalanceOrig  float64\n",
      " 6   nameDest        object \n",
      " 7   oldbalanceDest  float64\n",
      " 8   newbalanceDest  float64\n",
      " 9   isFraud         int64  \n",
      " 10  isFlaggedFraud  int64  \n",
      "dtypes: float64(5), int64(3), object(3)\n",
      "memory usage: 534.0+ MB\n"
     ]
    }
   ],
   "source": [
    "data.info()"
   ]
  },
  {
   "cell_type": "code",
   "execution_count": 4,
   "id": "8f62b6d5",
   "metadata": {
    "scrolled": true
   },
   "outputs": [
    {
     "data": {
      "text/html": [
       "<div>\n",
       "<style scoped>\n",
       "    .dataframe tbody tr th:only-of-type {\n",
       "        vertical-align: middle;\n",
       "    }\n",
       "\n",
       "    .dataframe tbody tr th {\n",
       "        vertical-align: top;\n",
       "    }\n",
       "\n",
       "    .dataframe thead th {\n",
       "        text-align: right;\n",
       "    }\n",
       "</style>\n",
       "<table border=\"1\" class=\"dataframe\">\n",
       "  <thead>\n",
       "    <tr style=\"text-align: right;\">\n",
       "      <th></th>\n",
       "      <th>step</th>\n",
       "      <th>amount</th>\n",
       "      <th>oldbalanceOrg</th>\n",
       "      <th>newbalanceOrig</th>\n",
       "      <th>oldbalanceDest</th>\n",
       "      <th>newbalanceDest</th>\n",
       "      <th>isFraud</th>\n",
       "      <th>isFlaggedFraud</th>\n",
       "    </tr>\n",
       "  </thead>\n",
       "  <tbody>\n",
       "    <tr>\n",
       "      <th>count</th>\n",
       "      <td>6.362620e+06</td>\n",
       "      <td>6.362620e+06</td>\n",
       "      <td>6.362620e+06</td>\n",
       "      <td>6.362620e+06</td>\n",
       "      <td>6.362620e+06</td>\n",
       "      <td>6.362620e+06</td>\n",
       "      <td>6.362620e+06</td>\n",
       "      <td>6.362620e+06</td>\n",
       "    </tr>\n",
       "    <tr>\n",
       "      <th>mean</th>\n",
       "      <td>2.433972e+02</td>\n",
       "      <td>1.798619e+05</td>\n",
       "      <td>8.338831e+05</td>\n",
       "      <td>8.551137e+05</td>\n",
       "      <td>1.100702e+06</td>\n",
       "      <td>1.224996e+06</td>\n",
       "      <td>1.290820e-03</td>\n",
       "      <td>2.514687e-06</td>\n",
       "    </tr>\n",
       "    <tr>\n",
       "      <th>std</th>\n",
       "      <td>1.423320e+02</td>\n",
       "      <td>6.038582e+05</td>\n",
       "      <td>2.888243e+06</td>\n",
       "      <td>2.924049e+06</td>\n",
       "      <td>3.399180e+06</td>\n",
       "      <td>3.674129e+06</td>\n",
       "      <td>3.590480e-02</td>\n",
       "      <td>1.585775e-03</td>\n",
       "    </tr>\n",
       "    <tr>\n",
       "      <th>min</th>\n",
       "      <td>1.000000e+00</td>\n",
       "      <td>0.000000e+00</td>\n",
       "      <td>0.000000e+00</td>\n",
       "      <td>0.000000e+00</td>\n",
       "      <td>0.000000e+00</td>\n",
       "      <td>0.000000e+00</td>\n",
       "      <td>0.000000e+00</td>\n",
       "      <td>0.000000e+00</td>\n",
       "    </tr>\n",
       "    <tr>\n",
       "      <th>25%</th>\n",
       "      <td>1.560000e+02</td>\n",
       "      <td>1.338957e+04</td>\n",
       "      <td>0.000000e+00</td>\n",
       "      <td>0.000000e+00</td>\n",
       "      <td>0.000000e+00</td>\n",
       "      <td>0.000000e+00</td>\n",
       "      <td>0.000000e+00</td>\n",
       "      <td>0.000000e+00</td>\n",
       "    </tr>\n",
       "    <tr>\n",
       "      <th>50%</th>\n",
       "      <td>2.390000e+02</td>\n",
       "      <td>7.487194e+04</td>\n",
       "      <td>1.420800e+04</td>\n",
       "      <td>0.000000e+00</td>\n",
       "      <td>1.327057e+05</td>\n",
       "      <td>2.146614e+05</td>\n",
       "      <td>0.000000e+00</td>\n",
       "      <td>0.000000e+00</td>\n",
       "    </tr>\n",
       "    <tr>\n",
       "      <th>75%</th>\n",
       "      <td>3.350000e+02</td>\n",
       "      <td>2.087215e+05</td>\n",
       "      <td>1.073152e+05</td>\n",
       "      <td>1.442584e+05</td>\n",
       "      <td>9.430367e+05</td>\n",
       "      <td>1.111909e+06</td>\n",
       "      <td>0.000000e+00</td>\n",
       "      <td>0.000000e+00</td>\n",
       "    </tr>\n",
       "    <tr>\n",
       "      <th>max</th>\n",
       "      <td>7.430000e+02</td>\n",
       "      <td>9.244552e+07</td>\n",
       "      <td>5.958504e+07</td>\n",
       "      <td>4.958504e+07</td>\n",
       "      <td>3.560159e+08</td>\n",
       "      <td>3.561793e+08</td>\n",
       "      <td>1.000000e+00</td>\n",
       "      <td>1.000000e+00</td>\n",
       "    </tr>\n",
       "  </tbody>\n",
       "</table>\n",
       "</div>"
      ],
      "text/plain": [
       "               step        amount  oldbalanceOrg  newbalanceOrig  \\\n",
       "count  6.362620e+06  6.362620e+06   6.362620e+06    6.362620e+06   \n",
       "mean   2.433972e+02  1.798619e+05   8.338831e+05    8.551137e+05   \n",
       "std    1.423320e+02  6.038582e+05   2.888243e+06    2.924049e+06   \n",
       "min    1.000000e+00  0.000000e+00   0.000000e+00    0.000000e+00   \n",
       "25%    1.560000e+02  1.338957e+04   0.000000e+00    0.000000e+00   \n",
       "50%    2.390000e+02  7.487194e+04   1.420800e+04    0.000000e+00   \n",
       "75%    3.350000e+02  2.087215e+05   1.073152e+05    1.442584e+05   \n",
       "max    7.430000e+02  9.244552e+07   5.958504e+07    4.958504e+07   \n",
       "\n",
       "       oldbalanceDest  newbalanceDest       isFraud  isFlaggedFraud  \n",
       "count    6.362620e+06    6.362620e+06  6.362620e+06    6.362620e+06  \n",
       "mean     1.100702e+06    1.224996e+06  1.290820e-03    2.514687e-06  \n",
       "std      3.399180e+06    3.674129e+06  3.590480e-02    1.585775e-03  \n",
       "min      0.000000e+00    0.000000e+00  0.000000e+00    0.000000e+00  \n",
       "25%      0.000000e+00    0.000000e+00  0.000000e+00    0.000000e+00  \n",
       "50%      1.327057e+05    2.146614e+05  0.000000e+00    0.000000e+00  \n",
       "75%      9.430367e+05    1.111909e+06  0.000000e+00    0.000000e+00  \n",
       "max      3.560159e+08    3.561793e+08  1.000000e+00    1.000000e+00  "
      ]
     },
     "execution_count": 4,
     "metadata": {},
     "output_type": "execute_result"
    }
   ],
   "source": [
    "data.describe()"
   ]
  },
  {
   "cell_type": "code",
   "execution_count": 5,
   "id": "ea7a355c",
   "metadata": {},
   "outputs": [],
   "source": [
    "obj = (data.dtypes == 'object')"
   ]
  },
  {
   "cell_type": "code",
   "execution_count": 6,
   "id": "121981f6",
   "metadata": {},
   "outputs": [
    {
     "data": {
      "text/plain": [
       "step              False\n",
       "type               True\n",
       "amount            False\n",
       "nameOrig           True\n",
       "oldbalanceOrg     False\n",
       "newbalanceOrig    False\n",
       "nameDest           True\n",
       "oldbalanceDest    False\n",
       "newbalanceDest    False\n",
       "isFraud           False\n",
       "isFlaggedFraud    False\n",
       "dtype: bool"
      ]
     },
     "execution_count": 6,
     "metadata": {},
     "output_type": "execute_result"
    }
   ],
   "source": [
    "obj"
   ]
  },
  {
   "cell_type": "code",
   "execution_count": 7,
   "id": "942a2f8b",
   "metadata": {},
   "outputs": [
    {
     "data": {
      "text/plain": [
       "['type', 'nameOrig', 'nameDest']"
      ]
     },
     "execution_count": 7,
     "metadata": {},
     "output_type": "execute_result"
    }
   ],
   "source": [
    "object_cols = list(obj[obj].index)\n",
    "object_cols"
   ]
  },
  {
   "cell_type": "code",
   "execution_count": 8,
   "id": "60b66db9",
   "metadata": {},
   "outputs": [
    {
     "data": {
      "text/plain": [
       "step               True\n",
       "type              False\n",
       "amount            False\n",
       "nameOrig          False\n",
       "oldbalanceOrg     False\n",
       "newbalanceOrig    False\n",
       "nameDest          False\n",
       "oldbalanceDest    False\n",
       "newbalanceDest    False\n",
       "isFraud            True\n",
       "isFlaggedFraud     True\n",
       "dtype: bool"
      ]
     },
     "execution_count": 8,
     "metadata": {},
     "output_type": "execute_result"
    }
   ],
   "source": [
    "int_ = (data.dtypes == 'int64')\n",
    "int_"
   ]
  },
  {
   "cell_type": "code",
   "execution_count": 9,
   "id": "c2fe2b4a",
   "metadata": {},
   "outputs": [
    {
     "data": {
      "text/plain": [
       "['step', 'isFraud', 'isFlaggedFraud']"
      ]
     },
     "execution_count": 9,
     "metadata": {},
     "output_type": "execute_result"
    }
   ],
   "source": [
    "num_cols = list(int_[int_].index)\n",
    "num_cols"
   ]
  },
  {
   "cell_type": "code",
   "execution_count": 10,
   "id": "db318778",
   "metadata": {},
   "outputs": [
    {
     "data": {
      "text/plain": [
       "step              False\n",
       "type              False\n",
       "amount             True\n",
       "nameOrig          False\n",
       "oldbalanceOrg      True\n",
       "newbalanceOrig     True\n",
       "nameDest          False\n",
       "oldbalanceDest     True\n",
       "newbalanceDest     True\n",
       "isFraud           False\n",
       "isFlaggedFraud    False\n",
       "dtype: bool"
      ]
     },
     "execution_count": 10,
     "metadata": {},
     "output_type": "execute_result"
    }
   ],
   "source": [
    "fl = (data.dtypes == 'float64')\n",
    "fl"
   ]
  },
  {
   "cell_type": "code",
   "execution_count": 11,
   "id": "025f39ed",
   "metadata": {},
   "outputs": [
    {
     "data": {
      "text/plain": [
       "['amount',\n",
       " 'oldbalanceOrg',\n",
       " 'newbalanceOrig',\n",
       " 'oldbalanceDest',\n",
       " 'newbalanceDest']"
      ]
     },
     "execution_count": 11,
     "metadata": {},
     "output_type": "execute_result"
    }
   ],
   "source": [
    "fl_cols = list(fl[fl].index)\n",
    "fl_cols"
   ]
  },
  {
   "cell_type": "code",
   "execution_count": 12,
   "id": "5f92a813",
   "metadata": {},
   "outputs": [
    {
     "name": "stdout",
     "output_type": "stream",
     "text": [
      "Categorical variables:  3\n",
      "Integer variables:  3\n",
      "Float variables:  5\n"
     ]
    }
   ],
   "source": [
    "print(\"Categorical variables: \",len(object_cols))\n",
    "print(\"Integer variables: \",len(num_cols))\n",
    "print(\"Float variables: \",len(fl_cols))"
   ]
  },
  {
   "cell_type": "code",
   "execution_count": 13,
   "id": "ca957166",
   "metadata": {},
   "outputs": [
    {
     "data": {
      "text/plain": [
       "<Axes: xlabel='type', ylabel='count'>"
      ]
     },
     "execution_count": 13,
     "metadata": {},
     "output_type": "execute_result"
    },
    {
     "data": {
      "image/png": "[encoded data removed]",
      "text/plain": [
       "<Figure size 640x480 with 1 Axes>"
      ]
     },
     "metadata": {},
     "output_type": "display_data"
    }
   ],
   "source": [
    "sns.countplot(x='type', data=data)"
   ]
  },
  {
   "cell_type": "code",
   "execution_count": 14,
   "id": "3ccc16b2",
   "metadata": {},
   "outputs": [
    {
     "data": {
      "text/plain": [
       "<Axes: xlabel='type', ylabel='amount'>"
      ]
     },
     "execution_count": 14,
     "metadata": {},
     "output_type": "execute_result"
    },
    {
     "data": {
      "image/png": "[encoded data removed]",
      "text/plain": [
       "<Figure size 640x480 with 1 Axes>"
      ]
     },
     "metadata": {},
     "output_type": "display_data"
    }
   ],
   "source": [
    "sns.barplot(x='type' , y='amount' , data=data)"
   ]
  },
  {
   "cell_type": "code",
   "execution_count": 15,
   "id": "5d734214",
   "metadata": {},
   "outputs": [
    {
     "data": {
      "text/plain": [
       "isFraud\n",
       "0    6354407\n",
       "1       8213\n",
       "Name: count, dtype: int64"
      ]
     },
     "execution_count": 15,
     "metadata": {},
     "output_type": "execute_result"
    }
   ],
   "source": [
    "data['isFraud'].value_counts()"
   ]
  },
  {
   "cell_type": "code",
   "execution_count": 16,
   "id": "b0feac32",
   "metadata": {},
   "outputs": [
    {
     "data": {
      "text/plain": [
       "<Axes: xlabel='isFraud', ylabel='count'>"
      ]
     },
     "execution_count": 16,
     "metadata": {},
     "output_type": "execute_result"
    },
    {
     "data": {
      "image/png": "[encoded data removed]",
      "text/plain": [
       "<Figure size 640x480 with 1 Axes>"
      ]
     },
     "metadata": {},
     "output_type": "display_data"
    }
   ],
   "source": [
    "sns.countplot(x='isFraud',data=data)"
   ]
  },
  {
   "cell_type": "code",
   "execution_count": 18,
   "id": "b00ca7cf",
   "metadata": {},
   "outputs": [],
   "source": [
    "from sklearn.utils import resample\n",
    "\n",
    "majority = data[(data['isFraud']==0)] \n",
    "minority = data[(data['isFraud']==1)] \n",
    "\n",
    "n_samples = len(minority)\n",
    "\n",
    "majority_downsampled = resample(majority,\n",
    "                                replace=False, \n",
    "                                n_samples=n_samples,  \n",
    "                                random_state=42)\n",
    "\n",
    "data = pd.concat([majority_downsampled, minority])"
   ]
  },
  {
   "cell_type": "code",
   "execution_count": 19,
   "id": "c01eaa9e",
   "metadata": {},
   "outputs": [
    {
     "data": {
      "text/plain": [
       "isFraud\n",
       "0    8213\n",
       "1    8213\n",
       "Name: count, dtype: int64"
      ]
     },
     "execution_count": 19,
     "metadata": {},
     "output_type": "execute_result"
    }
   ],
   "source": [
    "data['isFraud'].value_counts()"
   ]
  },
  {
   "cell_type": "code",
   "execution_count": 20,
   "id": "9ad7f821",
   "metadata": {},
   "outputs": [
    {
     "data": {
      "text/plain": [
       "<Axes: xlabel='isFraud', ylabel='count'>"
      ]
     },
     "execution_count": 20,
     "metadata": {},
     "output_type": "execute_result"
    },
    {
     "data": {
      "image/png": "[encoded data removed]",
      "text/plain": [
       "<Figure size 640x480 with 1 Axes>"
      ]
     },
     "metadata": {},
     "output_type": "display_data"
    }
   ],
   "source": [
    "sns.countplot(x='isFraud',data=data)"
   ]
  },
  {
   "cell_type": "code",
   "execution_count": 21,
   "id": "a6b269cf",
   "metadata": {},
   "outputs": [
    {
     "name": "stdout",
     "output_type": "stream",
     "text": [
      "<class 'pandas.core.frame.DataFrame'>\n",
      "Index: 16426 entries, 4105701 to 6362619\n",
      "Data columns (total 11 columns):\n",
      " #   Column          Non-Null Count  Dtype  \n",
      "---  ------          --------------  -----  \n",
      " 0   step            16426 non-null  int64  \n",
      " 1   type            16426 non-null  object \n",
      " 2   amount          16426 non-null  float64\n",
      " 3   nameOrig        16426 non-null  object \n",
      " 4   oldbalanceOrg   16426 non-null  float64\n",
      " 5   newbalanceOrig  16426 non-null  float64\n",
      " 6   nameDest        16426 non-null  object \n",
      " 7   oldbalanceDest  16426 non-null  float64\n",
      " 8   newbalanceDest  16426 non-null  float64\n",
      " 9   isFraud         16426 non-null  int64  \n",
      " 10  isFlaggedFraud  16426 non-null  int64  \n",
      "dtypes: float64(5), int64(3), object(3)\n",
      "memory usage: 1.5+ MB\n"
     ]
    }
   ],
   "source": [
    "data.info()"
   ]
  },
  {
   "cell_type": "code",
   "execution_count": null,
   "id": "24775f55",
   "metadata": {},
   "outputs": [],
   "source": []
  },
  {
   "cell_type": "code",
   "execution_count": 22,
   "id": "f0ce1d67",
   "metadata": {},
   "outputs": [
    {
     "data": {
      "text/plain": [
       "<Axes: xlabel='step', ylabel='Count'>"
      ]
     },
     "execution_count": 22,
     "metadata": {},
     "output_type": "execute_result"
    },
    {
     "data": {
      "image/png": "[encoded data removed]",
      "text/plain": [
       "<Figure size 1500x600 with 1 Axes>"
      ]
     },
     "metadata": {},
     "output_type": "display_data"
    }
   ],
   "source": [
    "plt.figure(figsize=(15, 6))\n",
    "sns.histplot(data['step'], bins=50, kde=True)\n"
   ]
  },
  {
   "cell_type": "code",
   "execution_count": 23,
   "id": "51bf1d74",
   "metadata": {},
   "outputs": [
    {
     "data": {
      "text/plain": [
       "<Axes: >"
      ]
     },
     "execution_count": 23,
     "metadata": {},
     "output_type": "execute_result"
    },
    {
     "data": {
      "image/png": "[encoded data removed]",
      "text/plain": [
       "<Figure size 1200x600 with 2 Axes>"
      ]
     },
     "metadata": {},
     "output_type": "display_data"
    }
   ],
   "source": [
    "plt.figure(figsize=(12, 6))\n",
    "numeric_data = data.select_dtypes(include='number')\n",
    "sns.heatmap(numeric_data.corr(),\n",
    "            cmap='BrBG',\n",
    "            fmt='.2f',\n",
    "            linewidths=2,\n",
    "            annot=True)\n"
   ]
  },
  {
   "cell_type": "code",
   "execution_count": 24,
   "id": "04221570",
   "metadata": {},
   "outputs": [
    {
     "data": {
      "text/html": [
       "<div>\n",
       "<style scoped>\n",
       "    .dataframe tbody tr th:only-of-type {\n",
       "        vertical-align: middle;\n",
       "    }\n",
       "\n",
       "    .dataframe tbody tr th {\n",
       "        vertical-align: top;\n",
       "    }\n",
       "\n",
       "    .dataframe thead th {\n",
       "        text-align: right;\n",
       "    }\n",
       "</style>\n",
       "<table border=\"1\" class=\"dataframe\">\n",
       "  <thead>\n",
       "    <tr style=\"text-align: right;\">\n",
       "      <th></th>\n",
       "      <th>step</th>\n",
       "      <th>type</th>\n",
       "      <th>amount</th>\n",
       "      <th>nameOrig</th>\n",
       "      <th>oldbalanceOrg</th>\n",
       "      <th>newbalanceOrig</th>\n",
       "      <th>nameDest</th>\n",
       "      <th>oldbalanceDest</th>\n",
       "      <th>newbalanceDest</th>\n",
       "      <th>isFraud</th>\n",
       "      <th>isFlaggedFraud</th>\n",
       "    </tr>\n",
       "  </thead>\n",
       "  <tbody>\n",
       "    <tr>\n",
       "      <th>4105701</th>\n",
       "      <td>302</td>\n",
       "      <td>TRANSFER</td>\n",
       "      <td>1117326.81</td>\n",
       "      <td>C1653827828</td>\n",
       "      <td>6053.00</td>\n",
       "      <td>0.00</td>\n",
       "      <td>C723898004</td>\n",
       "      <td>351084.09</td>\n",
       "      <td>1468410.90</td>\n",
       "      <td>0</td>\n",
       "      <td>0</td>\n",
       "    </tr>\n",
       "    <tr>\n",
       "      <th>6168896</th>\n",
       "      <td>563</td>\n",
       "      <td>CASH_IN</td>\n",
       "      <td>40687.98</td>\n",
       "      <td>C1799240188</td>\n",
       "      <td>47995.00</td>\n",
       "      <td>88682.98</td>\n",
       "      <td>C276105315</td>\n",
       "      <td>0.00</td>\n",
       "      <td>0.00</td>\n",
       "      <td>0</td>\n",
       "      <td>0</td>\n",
       "    </tr>\n",
       "    <tr>\n",
       "      <th>5065283</th>\n",
       "      <td>354</td>\n",
       "      <td>PAYMENT</td>\n",
       "      <td>20965.70</td>\n",
       "      <td>C2103943001</td>\n",
       "      <td>3157.00</td>\n",
       "      <td>0.00</td>\n",
       "      <td>M1364168600</td>\n",
       "      <td>0.00</td>\n",
       "      <td>0.00</td>\n",
       "      <td>0</td>\n",
       "      <td>0</td>\n",
       "    </tr>\n",
       "    <tr>\n",
       "      <th>2328</th>\n",
       "      <td>1</td>\n",
       "      <td>CASH_OUT</td>\n",
       "      <td>153596.45</td>\n",
       "      <td>C979532928</td>\n",
       "      <td>711133.71</td>\n",
       "      <td>557537.26</td>\n",
       "      <td>C1360767589</td>\n",
       "      <td>1954368.93</td>\n",
       "      <td>2107965.39</td>\n",
       "      <td>0</td>\n",
       "      <td>0</td>\n",
       "    </tr>\n",
       "    <tr>\n",
       "      <th>1855225</th>\n",
       "      <td>164</td>\n",
       "      <td>CASH_IN</td>\n",
       "      <td>69167.31</td>\n",
       "      <td>C1811581557</td>\n",
       "      <td>48601.00</td>\n",
       "      <td>117768.31</td>\n",
       "      <td>C882929863</td>\n",
       "      <td>0.00</td>\n",
       "      <td>0.00</td>\n",
       "      <td>0</td>\n",
       "      <td>0</td>\n",
       "    </tr>\n",
       "  </tbody>\n",
       "</table>\n",
       "</div>"
      ],
      "text/plain": [
       "         step      type      amount     nameOrig  oldbalanceOrg  \\\n",
       "4105701   302  TRANSFER  1117326.81  C1653827828        6053.00   \n",
       "6168896   563   CASH_IN    40687.98  C1799240188       47995.00   \n",
       "5065283   354   PAYMENT    20965.70  C2103943001        3157.00   \n",
       "2328        1  CASH_OUT   153596.45   C979532928      711133.71   \n",
       "1855225   164   CASH_IN    69167.31  C1811581557       48601.00   \n",
       "\n",
       "         newbalanceOrig     nameDest  oldbalanceDest  newbalanceDest  isFraud  \\\n",
       "4105701            0.00   C723898004       351084.09      1468410.90        0   \n",
       "6168896        88682.98   C276105315            0.00            0.00        0   \n",
       "5065283            0.00  M1364168600            0.00            0.00        0   \n",
       "2328          557537.26  C1360767589      1954368.93      2107965.39        0   \n",
       "1855225       117768.31   C882929863            0.00            0.00        0   \n",
       "\n",
       "         isFlaggedFraud  \n",
       "4105701               0  \n",
       "6168896               0  \n",
       "5065283               0  \n",
       "2328                  0  \n",
       "1855225               0  "
      ]
     },
     "execution_count": 24,
     "metadata": {},
     "output_type": "execute_result"
    }
   ],
   "source": [
    "data.head()"
   ]
  },
  {
   "cell_type": "code",
   "execution_count": 25,
   "id": "e7a88acc",
   "metadata": {},
   "outputs": [
    {
     "data": {
      "text/html": [
       "<div>\n",
       "<style scoped>\n",
       "    .dataframe tbody tr th:only-of-type {\n",
       "        vertical-align: middle;\n",
       "    }\n",
       "\n",
       "    .dataframe tbody tr th {\n",
       "        vertical-align: top;\n",
       "    }\n",
       "\n",
       "    .dataframe thead th {\n",
       "        text-align: right;\n",
       "    }\n",
       "</style>\n",
       "<table border=\"1\" class=\"dataframe\">\n",
       "  <thead>\n",
       "    <tr style=\"text-align: right;\">\n",
       "      <th></th>\n",
       "      <th>step</th>\n",
       "      <th>type</th>\n",
       "      <th>amount</th>\n",
       "      <th>nameOrig</th>\n",
       "      <th>oldbalanceOrg</th>\n",
       "      <th>newbalanceOrig</th>\n",
       "      <th>nameDest</th>\n",
       "      <th>oldbalanceDest</th>\n",
       "      <th>newbalanceDest</th>\n",
       "      <th>isFraud</th>\n",
       "      <th>isFlaggedFraud</th>\n",
       "      <th>CASH_OUT</th>\n",
       "      <th>DEBIT</th>\n",
       "      <th>PAYMENT</th>\n",
       "      <th>TRANSFER</th>\n",
       "    </tr>\n",
       "  </thead>\n",
       "  <tbody>\n",
       "    <tr>\n",
       "      <th>4105701</th>\n",
       "      <td>302</td>\n",
       "      <td>TRANSFER</td>\n",
       "      <td>1117326.81</td>\n",
       "      <td>C1653827828</td>\n",
       "      <td>6053.00</td>\n",
       "      <td>0.00</td>\n",
       "      <td>C723898004</td>\n",
       "      <td>351084.09</td>\n",
       "      <td>1468410.90</td>\n",
       "      <td>0</td>\n",
       "      <td>0</td>\n",
       "      <td>False</td>\n",
       "      <td>False</td>\n",
       "      <td>False</td>\n",
       "      <td>True</td>\n",
       "    </tr>\n",
       "    <tr>\n",
       "      <th>6168896</th>\n",
       "      <td>563</td>\n",
       "      <td>CASH_IN</td>\n",
       "      <td>40687.98</td>\n",
       "      <td>C1799240188</td>\n",
       "      <td>47995.00</td>\n",
       "      <td>88682.98</td>\n",
       "      <td>C276105315</td>\n",
       "      <td>0.00</td>\n",
       "      <td>0.00</td>\n",
       "      <td>0</td>\n",
       "      <td>0</td>\n",
       "      <td>False</td>\n",
       "      <td>False</td>\n",
       "      <td>False</td>\n",
       "      <td>False</td>\n",
       "    </tr>\n",
       "    <tr>\n",
       "      <th>5065283</th>\n",
       "      <td>354</td>\n",
       "      <td>PAYMENT</td>\n",
       "      <td>20965.70</td>\n",
       "      <td>C2103943001</td>\n",
       "      <td>3157.00</td>\n",
       "      <td>0.00</td>\n",
       "      <td>M1364168600</td>\n",
       "      <td>0.00</td>\n",
       "      <td>0.00</td>\n",
       "      <td>0</td>\n",
       "      <td>0</td>\n",
       "      <td>False</td>\n",
       "      <td>False</td>\n",
       "      <td>True</td>\n",
       "      <td>False</td>\n",
       "    </tr>\n",
       "    <tr>\n",
       "      <th>2328</th>\n",
       "      <td>1</td>\n",
       "      <td>CASH_OUT</td>\n",
       "      <td>153596.45</td>\n",
       "      <td>C979532928</td>\n",
       "      <td>711133.71</td>\n",
       "      <td>557537.26</td>\n",
       "      <td>C1360767589</td>\n",
       "      <td>1954368.93</td>\n",
       "      <td>2107965.39</td>\n",
       "      <td>0</td>\n",
       "      <td>0</td>\n",
       "      <td>True</td>\n",
       "      <td>False</td>\n",
       "      <td>False</td>\n",
       "      <td>False</td>\n",
       "    </tr>\n",
       "    <tr>\n",
       "      <th>1855225</th>\n",
       "      <td>164</td>\n",
       "      <td>CASH_IN</td>\n",
       "      <td>69167.31</td>\n",
       "      <td>C1811581557</td>\n",
       "      <td>48601.00</td>\n",
       "      <td>117768.31</td>\n",
       "      <td>C882929863</td>\n",
       "      <td>0.00</td>\n",
       "      <td>0.00</td>\n",
       "      <td>0</td>\n",
       "      <td>0</td>\n",
       "      <td>False</td>\n",
       "      <td>False</td>\n",
       "      <td>False</td>\n",
       "      <td>False</td>\n",
       "    </tr>\n",
       "  </tbody>\n",
       "</table>\n",
       "</div>"
      ],
      "text/plain": [
       "         step      type      amount     nameOrig  oldbalanceOrg  \\\n",
       "4105701   302  TRANSFER  1117326.81  C1653827828        6053.00   \n",
       "6168896   563   CASH_IN    40687.98  C1799240188       47995.00   \n",
       "5065283   354   PAYMENT    20965.70  C2103943001        3157.00   \n",
       "2328        1  CASH_OUT   153596.45   C979532928      711133.71   \n",
       "1855225   164   CASH_IN    69167.31  C1811581557       48601.00   \n",
       "\n",
       "         newbalanceOrig     nameDest  oldbalanceDest  newbalanceDest  isFraud  \\\n",
       "4105701            0.00   C723898004       351084.09      1468410.90        0   \n",
       "6168896        88682.98   C276105315            0.00            0.00        0   \n",
       "5065283            0.00  M1364168600            0.00            0.00        0   \n",
       "2328          557537.26  C1360767589      1954368.93      2107965.39        0   \n",
       "1855225       117768.31   C882929863            0.00            0.00        0   \n",
       "\n",
       "         isFlaggedFraud  CASH_OUT  DEBIT  PAYMENT  TRANSFER  \n",
       "4105701               0     False  False    False      True  \n",
       "6168896               0     False  False    False     False  \n",
       "5065283               0     False  False     True     False  \n",
       "2328                  0      True  False    False     False  \n",
       "1855225               0     False  False    False     False  "
      ]
     },
     "execution_count": 25,
     "metadata": {},
     "output_type": "execute_result"
    }
   ],
   "source": [
    "type_new = pd.get_dummies(data['type'], drop_first=True)\n",
    "data_new = pd.concat([data, type_new], axis=1)\n",
    "data_new.head()"
   ]
  },
  {
   "cell_type": "code",
   "execution_count": 26,
   "id": "629626b7",
   "metadata": {},
   "outputs": [],
   "source": [
    "x = data_new.drop(['isFraud','type','nameOrig','nameDest','isFlaggedFraud'],axis =1)\n",
    "y=data_new['isFraud']"
   ]
  },
  {
   "cell_type": "code",
   "execution_count": 27,
   "id": "130c46f3",
   "metadata": {},
   "outputs": [
    {
     "data": {
      "text/plain": [
       "(16426, 10)"
      ]
     },
     "execution_count": 27,
     "metadata": {},
     "output_type": "execute_result"
    }
   ],
   "source": [
    "x.shape"
   ]
  },
  {
   "cell_type": "code",
   "execution_count": 28,
   "id": "829faf2c",
   "metadata": {},
   "outputs": [
    {
     "data": {
      "text/plain": [
       "(16426,)"
      ]
     },
     "execution_count": 28,
     "metadata": {},
     "output_type": "execute_result"
    }
   ],
   "source": [
    "y.shape"
   ]
  },
  {
   "cell_type": "code",
   "execution_count": 29,
   "id": "b35e05a1",
   "metadata": {},
   "outputs": [],
   "source": [
    "from sklearn.model_selection import train_test_split\n",
    "\n",
    "X_train, X_test, y_train, y_test = train_test_split(\n",
    "                                    x, y, test_size=0.3, random_state=42)\n"
   ]
  },
  {
   "cell_type": "code",
   "execution_count": 30,
   "id": "25aacb3f",
   "metadata": {},
   "outputs": [],
   "source": [
    "from sklearn.metrics import roc_auc_score as ras\n",
    "from sklearn.linear_model import LogisticRegression\n",
    "from sklearn.svm import SVC\n",
    "from sklearn.ensemble import RandomForestClassifier"
   ]
  },
  {
   "cell_type": "code",
   "execution_count": 31,
   "id": "0e5538e9",
   "metadata": {},
   "outputs": [
    {
     "name": "stdout",
     "output_type": "stream",
     "text": [
      "Model: Logistic Regression\n",
      "\n",
      "Training Accuracy: 0.9686713255991325\n",
      "Validation Accuracy: 0.967357324597258\n"
     ]
    }
   ],
   "source": [
    "# Logistic regression\n",
    "\n",
    "logistic_model = LogisticRegression()\n",
    "logistic_model.fit(X_train, y_train)\n",
    "\n",
    "print(f'Model: Logistic Regression\\n')\n",
    "\n",
    "train_preds_logistic = logistic_model.predict_proba(X_train)[:, 1]\n",
    "print('Training Accuracy:', ras(y_train, train_preds_logistic))\n",
    "\n",
    "y_preds_logistic = logistic_model.predict_proba(X_test)[:, 1]\n",
    "print('Validation Accuracy:', ras(y_test, y_preds_logistic))"
   ]
  },
  {
   "cell_type": "code",
   "execution_count": 32,
   "id": "e240d17a",
   "metadata": {},
   "outputs": [
    {
     "name": "stdout",
     "output_type": "stream",
     "text": [
      "Model: Support Vector Classifier (SVC)\n",
      "\n",
      "Training Accuracy: 0.9611657075767297\n",
      "Validation Accuracy: 0.9598368228604146\n"
     ]
    }
   ],
   "source": [
    "# Support Vector Classifier (SVC)\n",
    "svc_model = SVC(kernel='rbf', probability=True)\n",
    "svc_model.fit(X_train, y_train)\n",
    "\n",
    "print(f'Model: Support Vector Classifier (SVC)\\n')\n",
    "\n",
    "train_preds_svc = svc_model.predict_proba(X_train)[:, 1]\n",
    "print('Training Accuracy:', ras(y_train, train_preds_svc))\n",
    "\n",
    "y_preds_svc = svc_model.predict_proba(X_test)[:, 1]\n",
    "print('Validation Accuracy:', ras(y_test, y_preds_svc))"
   ]
  },
  {
   "cell_type": "code",
   "execution_count": 33,
   "id": "dedfb58e",
   "metadata": {},
   "outputs": [
    {
     "name": "stdout",
     "output_type": "stream",
     "text": [
      "Model: Random Forest Classifier\n",
      "\n",
      "Training Accuracy: 0.9999959910169735\n",
      "Validation Accuracy: 0.9975192186024509\n"
     ]
    }
   ],
   "source": [
    "# Random Forest Classifier\n",
    "\n",
    "rf_model = RandomForestClassifier(n_estimators=7, criterion='entropy', random_state=7)\n",
    "rf_model.fit(X_train, y_train)\n",
    "\n",
    "print(f'Model: Random Forest Classifier\\n')\n",
    "\n",
    "train_preds_rf = rf_model.predict_proba(X_train)[:, 1]\n",
    "print('Training Accuracy:', ras(y_train, train_preds_rf))\n",
    "\n",
    "y_preds_rf = rf_model.predict_proba(X_test)[:, 1]\n",
    "print('Validation Accuracy:', ras(y_test, y_preds_rf))\n"
   ]
  },
  {
   "cell_type": "code",
   "execution_count": 38,
   "id": "9f8c2fa8",
   "metadata": {},
   "outputs": [
    {
     "data": {
      "image/png": "[encoded data removed]",
      "text/plain": [
       "<Figure size 800x600 with 1 Axes>"
      ]
     },
     "metadata": {},
     "output_type": "display_data"
    }
   ],
   "source": [
    "# Random Forest Classifier performed the best\n",
    "\n",
    "# Confusion matrix\n",
    "\n",
    "from sklearn.metrics import confusion_matrix\n",
    "\n",
    "y_pred_rf = rf_model.predict(X_test)\n",
    "\n",
    "\n",
    "conf_matrix_rf = confusion_matrix(y_test, y_pred_rf)\n",
    "\n",
    "\n",
    "plt.figure(figsize=(8, 6))\n",
    "sns.heatmap(conf_matrix_rf, annot=True, fmt='d', cmap='Blues', cbar=False)\n",
    "plt.xlabel('Predicted labels')\n",
    "plt.ylabel('True labels')\n",
    "plt.title('Confusion Matrix - Random Forest Classifier')\n",
    "plt.show()\n"
   ]
  },
  {
   "cell_type": "code",
   "execution_count": 39,
   "id": "0777f1df",
   "metadata": {},
   "outputs": [
    {
     "name": "stdout",
     "output_type": "stream",
     "text": [
      "\n",
      "Classification Report:\n",
      "              precision    recall  f1-score   support\n",
      "\n",
      "           0       1.00      0.99      0.99      2479\n",
      "           1       0.99      1.00      0.99      2449\n",
      "\n",
      "    accuracy                           0.99      4928\n",
      "   macro avg       0.99      0.99      0.99      4928\n",
      "weighted avg       0.99      0.99      0.99      4928\n",
      "\n"
     ]
    }
   ],
   "source": [
    "from sklearn.metrics import classification_report\n",
    "\n",
    "print(\"\\nClassification Report:\")\n",
    "print(classification_report(y_test, y_pred_rf))\n"
   ]
  },
  {
   "cell_type": "code",
   "execution_count": null,
   "id": "819abf33",
   "metadata": {},
   "outputs": [],
   "source": []
  }
 ],
 "metadata": {
  "kernelspec": {
   "display_name": "Python 3 (ipykernel)",
   "language": "python",
   "name": "python3"
  },
  "language_info": {
   "codemirror_mode": {
    "name": "ipython",
    "version": 3
   },
   "file_extension": ".py",
   "mimetype": "text/x-python",
   "name": "python",
   "nbconvert_exporter": "python",
   "pygments_lexer": "ipython3",
   "version": "3.11.5"
  }
 },
 "nbformat": 4,
 "nbformat_minor": 5
}
